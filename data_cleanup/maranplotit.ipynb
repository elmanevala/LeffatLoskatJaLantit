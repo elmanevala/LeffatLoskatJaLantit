{
 "cells": [
  {
   "cell_type": "markdown",
   "metadata": {},
   "source": [
    "<h1>PLOTTING MOVIEDATA</h1>"
   ]
  },
  {
   "cell_type": "markdown",
   "metadata": {},
   "source": [
    "<h2>Import Libraries</h2>"
   ]
  },
  {
   "cell_type": "code",
   "execution_count": 59,
   "metadata": {},
   "outputs": [],
   "source": [
    "import pandas as pd\n",
    "import numpy as np\n",
    "import unicodedata\n",
    "import datetime\n",
    "import matplotlib.pyplot as plt\n",
    "import seaborn as sns\n",
    "import re"
   ]
  },
  {
   "cell_type": "markdown",
   "metadata": {},
   "source": [
    "<h2>Read data</h2>"
   ]
  },
  {
   "cell_type": "code",
   "execution_count": 60,
   "metadata": {},
   "outputs": [
    {
     "data": {
      "text/html": [
       "<div>\n",
       "<style scoped>\n",
       "    .dataframe tbody tr th:only-of-type {\n",
       "        vertical-align: middle;\n",
       "    }\n",
       "\n",
       "    .dataframe tbody tr th {\n",
       "        vertical-align: top;\n",
       "    }\n",
       "\n",
       "    .dataframe thead th {\n",
       "        text-align: right;\n",
       "    }\n",
       "</style>\n",
       "<table border=\"1\" class=\"dataframe\">\n",
       "  <thead>\n",
       "    <tr style=\"text-align: right;\">\n",
       "      <th></th>\n",
       "      <th>Suom</th>\n",
       "      <th>Nimi</th>\n",
       "      <th>Katsojat</th>\n",
       "      <th>Tulot</th>\n",
       "      <th>Ensi</th>\n",
       "      <th>Tuotantomaa</th>\n",
       "      <th>Genre</th>\n",
       "      <th>IMDb ID ja linkki</th>\n",
       "      <th>Pvm</th>\n",
       "    </tr>\n",
       "  </thead>\n",
       "  <tbody>\n",
       "    <tr>\n",
       "      <th>0</th>\n",
       "      <td>Titanic</td>\n",
       "      <td>Titanic</td>\n",
       "      <td>1114954.0</td>\n",
       "      <td>7728955.71</td>\n",
       "      <td>1998-01-16</td>\n",
       "      <td>US</td>\n",
       "      <td>['Drama', 'Romance']</td>\n",
       "      <td>tt0120338</td>\n",
       "      <td>2000-01-16</td>\n",
       "    </tr>\n",
       "    <tr>\n",
       "      <th>1</th>\n",
       "      <td>Tuntematon sotilas</td>\n",
       "      <td>Tuntematon sotilas</td>\n",
       "      <td>1023514.0</td>\n",
       "      <td>14190080.11</td>\n",
       "      <td>2017-10-27</td>\n",
       "      <td>FI</td>\n",
       "      <td>['Drama', 'War']</td>\n",
       "      <td>tt4065552</td>\n",
       "      <td>2000-10-27</td>\n",
       "    </tr>\n",
       "    <tr>\n",
       "      <th>2</th>\n",
       "      <td>Yksi lensi yli käenpesän</td>\n",
       "      <td>One Flew Over the Cuckoo's Nest</td>\n",
       "      <td>821805.0</td>\n",
       "      <td>52911.18</td>\n",
       "      <td>1976-03-19</td>\n",
       "      <td>US</td>\n",
       "      <td>['Drama']</td>\n",
       "      <td>tt0073486</td>\n",
       "      <td>2000-03-19</td>\n",
       "    </tr>\n",
       "    <tr>\n",
       "      <th>3</th>\n",
       "      <td>Papillon</td>\n",
       "      <td>Papillon</td>\n",
       "      <td>759301.0</td>\n",
       "      <td>12076.74</td>\n",
       "      <td>1974-01-25</td>\n",
       "      <td>US</td>\n",
       "      <td>['Biography', 'Crime', 'Drama']</td>\n",
       "      <td>tt0070511</td>\n",
       "      <td>2000-01-25</td>\n",
       "    </tr>\n",
       "    <tr>\n",
       "      <th>4</th>\n",
       "      <td>Uuno Turhapuro armeijan leivissä</td>\n",
       "      <td>Uuno Turhapuro armeijan leivissä</td>\n",
       "      <td>750965.0</td>\n",
       "      <td>NaN</td>\n",
       "      <td>1984-08-31</td>\n",
       "      <td>FI</td>\n",
       "      <td>['Comedy']</td>\n",
       "      <td>tt0088336</td>\n",
       "      <td>2000-08-31</td>\n",
       "    </tr>\n",
       "  </tbody>\n",
       "</table>\n",
       "</div>"
      ],
      "text/plain": [
       "                               Suom                              Nimi  \\\n",
       "0                           Titanic                           Titanic   \n",
       "1                Tuntematon sotilas                Tuntematon sotilas   \n",
       "2          Yksi lensi yli käenpesän   One Flew Over the Cuckoo's Nest   \n",
       "3                          Papillon                          Papillon   \n",
       "4  Uuno Turhapuro armeijan leivissä  Uuno Turhapuro armeijan leivissä   \n",
       "\n",
       "    Katsojat        Tulot       Ensi Tuotantomaa  \\\n",
       "0  1114954.0   7728955.71 1998-01-16          US   \n",
       "1  1023514.0  14190080.11 2017-10-27          FI   \n",
       "2   821805.0     52911.18 1976-03-19          US   \n",
       "3   759301.0     12076.74 1974-01-25          US   \n",
       "4   750965.0          NaN 1984-08-31          FI   \n",
       "\n",
       "                             Genre IMDb ID ja linkki        Pvm  \n",
       "0             ['Drama', 'Romance']         tt0120338 2000-01-16  \n",
       "1                 ['Drama', 'War']         tt4065552 2000-10-27  \n",
       "2                        ['Drama']         tt0073486 2000-03-19  \n",
       "3  ['Biography', 'Crime', 'Drama']         tt0070511 2000-01-25  \n",
       "4                       ['Comedy']         tt0088336 2000-08-31  "
      ]
     },
     "execution_count": 60,
     "metadata": {},
     "output_type": "execute_result"
    }
   ],
   "source": [
    "df = pd.read_csv('siivottu_leffadata.csv')\n",
    "df[['Katsojat', 'Tulot']] = df[['Katsojat', 'Tulot']].astype(float)\n",
    "df['Ensi'] = pd.to_datetime(df['Ensi'], format='%Y-%m-%d')\n",
    "df['Pvm'] = pd.to_datetime(df['Pvm'], format='%Y-%m-%d')\n",
    "df.head()"
   ]
  },
  {
   "cell_type": "code",
   "execution_count": 62,
   "metadata": {},
   "outputs": [
    {
     "name": "stdout",
     "output_type": "stream",
     "text": [
      "[28590272.0, 35619933.0, 31268045.0, 22371134.0, 17873480.0, 11879268.0, 30170597.0, 38457490.0, 34134125.0, 39829968.0, 30095400.0, 54266406.0]\n"
     ]
    },
    {
     "data": {
      "image/png": "[encoded data removed]",
      "text/plain": [
       "<matplotlib.figure.Figure at 0x7f906bf4a940>"
      ]
     },
     "metadata": {},
     "output_type": "display_data"
    }
   ],
   "source": [
    "summat = []\n",
    "\n",
    "for i in range(1,13):\n",
    "    summat.append(df.loc[df['Pvm'].apply(lambda x: x.month) == i, 'Katsojat'].sum()) \n",
    "\n",
    "print(summat)\n",
    "\n",
    "plt.plot(range(1,13), summat)\n",
    "plt.show()"
   ]
  }
 ],
 "metadata": {
  "kernelspec": {
   "display_name": "Python 3.6.9 64-bit",
   "language": "python",
   "name": "python3"
  },
  "language_info": {
   "codemirror_mode": {
    "name": "ipython",
    "version": 3
   },
   "file_extension": ".py",
   "mimetype": "text/x-python",
   "name": "python",
   "nbconvert_exporter": "python",
   "pygments_lexer": "ipython3",
   "version": "3.6.9"
  },
  "orig_nbformat": 4,
  "vscode": {
   "interpreter": {
    "hash": "31f2aee4e71d21fbe5cf8b01ff0e069b9275f58929596ceb00d14d90e3e16cd6"
   }
  }
 },
 "nbformat": 4,
 "nbformat_minor": 2
}
